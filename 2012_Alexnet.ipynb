{
  "nbformat": 4,
  "nbformat_minor": 0,
  "metadata": {
    "colab": {
      "name": "2012-Alexnet.ipynb",
      "provenance": [],
      "authorship_tag": "ABX9TyOLIDk0t/AgDk57eXA/6ivn",
      "include_colab_link": true
    },
    "kernelspec": {
      "name": "python3",
      "display_name": "Python 3"
    }
  },
  "cells": [
    {
      "cell_type": "markdown",
      "metadata": {
        "id": "view-in-github",
        "colab_type": "text"
      },
      "source": [
        "<a href=\"https://colab.research.google.com/github/suhailnajeeb/deep-learning-chronicles/blob/main/2012_Alexnet.ipynb\" target=\"_parent\"><img src=\"https://colab.research.google.com/assets/colab-badge.svg\" alt=\"Open In Colab\"/></a>"
      ]
    },
    {
      "cell_type": "markdown",
      "metadata": {
        "id": "hpi5sV8v5QCW"
      },
      "source": [
        "# **ImageNet Classification with Deep Convolutional Neural Networks (2012)**  \r\n",
        "\r\n",
        "[Link to paper](https://proceedings.neurips.cc/paper/2012/file/c399862d3b9d6b76c8436e924a68c45b-Paper.pdf)  \r\n",
        "\r\n",
        "Summary: \r\n",
        "\r\n",
        "* *Architecture:* 5-Layer Conv, 3-Fully Connected\r\n",
        "* *Activation:* ReLU\r\n",
        "* *Local Response Normalization:* Aids Generalization\r\n",
        "* *Overlapping Pooling:* Reduces Overfitting\r\n",
        "* *Data Augmentation:* \r\n",
        "    * Create patches, Train on Reflections\r\n",
        "    * Multiple Classifiers - Combine Results\r\n",
        "    * Altering intensities of RGB Channels  \r\n",
        "    (Add Multiples of Principal Components)\r\n",
        "* *Droupout:* Allows to simulate the training of multiple models and Drastically reduces Overfitting\r\n",
        "* *Learning:* \r\n",
        "    * *Optimizer:* Stochastic Gradient Descent\r\n",
        "    * *Momentum:* 0.9\r\n",
        "    * *Batch Size:* 128\r\n",
        "    * *Weight Decay:* 0.0005\r\n",
        "    * *Initialization:* Zero-mean Gaussian Distribution,  \r\n",
        "    Biases of 2nd, 4th, 5th Conv Layers set to 1 for ReLU\r\n",
        "\r\n",
        "The architecture is forked from the following Github Repository:   \r\n",
        "https://github.com/dansuh17/alexnet-pytorch"
      ]
    },
    {
      "cell_type": "code",
      "metadata": {
        "id": "dfyg3WcgrisO"
      },
      "source": [
        "import torch\r\n",
        "from torch import nn"
      ],
      "execution_count": 2,
      "outputs": []
    },
    {
      "cell_type": "code",
      "metadata": {
        "id": "4XG1yR6or1Uv"
      },
      "source": [
        "# Reference: https://github.com/dansuh17/alexnet-pytorch\r\n",
        "\r\n",
        "class AlexNet(nn.Module):\r\n",
        "    def __init__(self, num_classes = 1000):\r\n",
        "        super().__init__()\r\n",
        "        self.net = nn.Sequential(\r\n",
        "            nn.Conv2d(in_channels = 3, out_channels = 96, kernel_size = 11, stride = 4),\r\n",
        "            nn.ReLU(),\r\n",
        "            nn.LocalResponseNorm(size = 5, alpha = 0.0001, beta = 0.75, k = 2),\r\n",
        "            nn.MaxPool2d(kernel_size = 3, stride = 2),\r\n",
        "            nn.Conv2d(96, 256, 5, padding = 2),\r\n",
        "            nn.ReLU(),\r\n",
        "            nn.LocalResponseNorm(size = 5, alpha = 0.0001, beta = 0.75, k = 2),\r\n",
        "            nn.MaxPool2d(kernel_size = 3, stride = 2),\r\n",
        "            nn.Conv2d(256, 384, 3, padding = 1),\r\n",
        "            nn.ReLU(),\r\n",
        "            nn.Conv2d(384, 384, 3, padding = 1),\r\n",
        "            nn.ReLU(),\r\n",
        "            nn.Conv2d(384, 256, 3, padding = 1),\r\n",
        "            nn.ReLU(),\r\n",
        "            nn.MaxPool2d(kernel_size = 3, stride = 2),\r\n",
        "        )\r\n",
        "        self.classifier = nn.Sequential(\r\n",
        "            nn.Dropout(p = 0.5, inplace = True),\r\n",
        "            nn.Linear(in_features = (256*6*6), out_features = 4096),\r\n",
        "            nn.ReLU(),\r\n",
        "            nn.Dropout(p = 0.5, inplace = True),\r\n",
        "            nn.Linear(in_features = 4096, out_features = 4096),\r\n",
        "            nn.ReLU(),\r\n",
        "            nn.Linear(in_features = 4096, out_features = num_classes),\r\n",
        "        )\r\n",
        "        self.init_bias()\r\n",
        "    \r\n",
        "    def init_bias(self):\r\n",
        "        for layer in self.net:\r\n",
        "            if isinstance(layer, nn.Conv2d):\r\n",
        "                nn.init.normal_(layer.weight, mean = 0, std = 0.01)\r\n",
        "                nn.init.constant_(layer.bias, 0)\r\n",
        "        nn.init.constant_(self.net[4].bias, 1)\r\n",
        "        nn.init.constant_(self.net[10].bias, 1)\r\n",
        "        nn.init.constant_(self.net[12].bias, 1)\r\n",
        "\r\n",
        "    def forward(self, x):\r\n",
        "        x = self.net(x)\r\n",
        "        x = x.view(-1, 256*6*6)\r\n",
        "        return self.classifier(x)"
      ],
      "execution_count": null,
      "outputs": []
    },
    {
      "cell_type": "code",
      "metadata": {
        "id": "YJp-OzBQvXB7"
      },
      "source": [
        "model = AlexNet()"
      ],
      "execution_count": null,
      "outputs": []
    },
    {
      "cell_type": "code",
      "metadata": {
        "id": "x77NaOb_vaJB"
      },
      "source": [
        "x = torch.zeros(1, 3, 227, 227)"
      ],
      "execution_count": null,
      "outputs": []
    },
    {
      "cell_type": "code",
      "metadata": {
        "id": "ctnN0hmlvsQI"
      },
      "source": [
        "out = model(x)"
      ],
      "execution_count": null,
      "outputs": []
    },
    {
      "cell_type": "code",
      "metadata": {
        "colab": {
          "base_uri": "https://localhost:8080/"
        },
        "id": "_-L37bZkwAso",
        "outputId": "c93a661b-9283-4a8a-b40a-c9f2789e35bc"
      },
      "source": [
        "out.shape"
      ],
      "execution_count": null,
      "outputs": [
        {
          "output_type": "execute_result",
          "data": {
            "text/plain": [
              "torch.Size([1, 1000])"
            ]
          },
          "metadata": {
            "tags": []
          },
          "execution_count": 17
        }
      ]
    },
    {
      "cell_type": "markdown",
      "metadata": {
        "id": "0u1tI0u7wDwY"
      },
      "source": [
        "The following implementation is from PyTorch source-code:\r\n",
        "\r\n",
        "https://pytorch.org/docs/stable/_modules/torchvision/models/alexnet.html"
      ]
    },
    {
      "cell_type": "code",
      "metadata": {
        "id": "K_qX6qF2YcCY"
      },
      "source": [
        "# This implementation does not use the Local response Norm\r\n",
        "# And uses Default Initialization instead of the paper-specific one.\r\n",
        "\r\n",
        "class AlexNet(nn.Module):\r\n",
        "\r\n",
        "    def __init__(self, num_classes=1000):\r\n",
        "        super(AlexNet, self).__init__()\r\n",
        "        self.features = nn.Sequential(\r\n",
        "            nn.Conv2d(3, 64, kernel_size=11, stride=4, padding=2),\r\n",
        "            nn.ReLU(inplace=True),\r\n",
        "            nn.MaxPool2d(kernel_size=3, stride=2),\r\n",
        "            nn.Conv2d(64, 192, kernel_size=5, padding=2),\r\n",
        "            nn.ReLU(inplace=True),\r\n",
        "            nn.MaxPool2d(kernel_size=3, stride=2),\r\n",
        "            nn.Conv2d(192, 384, kernel_size=3, padding=1),\r\n",
        "            nn.ReLU(inplace=True),\r\n",
        "            nn.Conv2d(384, 256, kernel_size=3, padding=1),\r\n",
        "            nn.ReLU(inplace=True),\r\n",
        "            nn.Conv2d(256, 256, kernel_size=3, padding=1),\r\n",
        "            nn.ReLU(inplace=True),\r\n",
        "            nn.MaxPool2d(kernel_size=3, stride=2),\r\n",
        "        )\r\n",
        "        self.avgpool = nn.AdaptiveAvgPool2d((6, 6))\r\n",
        "        self.classifier = nn.Sequential(\r\n",
        "            nn.Dropout(),\r\n",
        "            nn.Linear(256 * 6 * 6, 4096),\r\n",
        "            nn.ReLU(inplace=True),\r\n",
        "            nn.Dropout(),\r\n",
        "            nn.Linear(4096, 4096),\r\n",
        "            nn.ReLU(inplace=True),\r\n",
        "            nn.Linear(4096, num_classes),\r\n",
        "        )\r\n",
        "\r\n",
        "    def forward(self, x):\r\n",
        "        x = self.features(x)\r\n",
        "        x = self.avgpool(x)\r\n",
        "        x = torch.flatten(x, 1)\r\n",
        "        x = self.classifier(x)\r\n",
        "        return x"
      ],
      "execution_count": 3,
      "outputs": []
    },
    {
      "cell_type": "markdown",
      "metadata": {
        "id": "PTF8EV2AZDaF"
      },
      "source": [
        "It can be directly imported from torchvision: "
      ]
    },
    {
      "cell_type": "code",
      "metadata": {
        "id": "VLTazQ0KZJa7"
      },
      "source": [
        "from torchvision.models import alexnet\r\n",
        "\r\n",
        "model = alexnet()"
      ],
      "execution_count": 4,
      "outputs": []
    },
    {
      "cell_type": "code",
      "metadata": {
        "colab": {
          "base_uri": "https://localhost:8080/"
        },
        "id": "xeziO9VSZQ88",
        "outputId": "bfb2f647-27e5-49e4-9cb0-80bc0465de8a"
      },
      "source": [
        "model"
      ],
      "execution_count": 5,
      "outputs": [
        {
          "output_type": "execute_result",
          "data": {
            "text/plain": [
              "AlexNet(\n",
              "  (features): Sequential(\n",
              "    (0): Conv2d(3, 64, kernel_size=(11, 11), stride=(4, 4), padding=(2, 2))\n",
              "    (1): ReLU(inplace=True)\n",
              "    (2): MaxPool2d(kernel_size=3, stride=2, padding=0, dilation=1, ceil_mode=False)\n",
              "    (3): Conv2d(64, 192, kernel_size=(5, 5), stride=(1, 1), padding=(2, 2))\n",
              "    (4): ReLU(inplace=True)\n",
              "    (5): MaxPool2d(kernel_size=3, stride=2, padding=0, dilation=1, ceil_mode=False)\n",
              "    (6): Conv2d(192, 384, kernel_size=(3, 3), stride=(1, 1), padding=(1, 1))\n",
              "    (7): ReLU(inplace=True)\n",
              "    (8): Conv2d(384, 256, kernel_size=(3, 3), stride=(1, 1), padding=(1, 1))\n",
              "    (9): ReLU(inplace=True)\n",
              "    (10): Conv2d(256, 256, kernel_size=(3, 3), stride=(1, 1), padding=(1, 1))\n",
              "    (11): ReLU(inplace=True)\n",
              "    (12): MaxPool2d(kernel_size=3, stride=2, padding=0, dilation=1, ceil_mode=False)\n",
              "  )\n",
              "  (avgpool): AdaptiveAvgPool2d(output_size=(6, 6))\n",
              "  (classifier): Sequential(\n",
              "    (0): Dropout(p=0.5, inplace=False)\n",
              "    (1): Linear(in_features=9216, out_features=4096, bias=True)\n",
              "    (2): ReLU(inplace=True)\n",
              "    (3): Dropout(p=0.5, inplace=False)\n",
              "    (4): Linear(in_features=4096, out_features=4096, bias=True)\n",
              "    (5): ReLU(inplace=True)\n",
              "    (6): Linear(in_features=4096, out_features=1000, bias=True)\n",
              "  )\n",
              ")"
            ]
          },
          "metadata": {
            "tags": []
          },
          "execution_count": 5
        }
      ]
    }
  ]
}